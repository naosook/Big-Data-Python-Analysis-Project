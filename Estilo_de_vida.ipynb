{
  "nbformat": 4,
  "nbformat_minor": 0,
  "metadata": {
    "colab": {
      "provenance": [],
      "authorship_tag": "ABX9TyN5VnZKmxzKvLLuXHCnHf0C",
      "include_colab_link": true
    },
    "kernelspec": {
      "name": "python3",
      "display_name": "Python 3"
    },
    "language_info": {
      "name": "python"
    }
  },
  "cells": [
    {
      "cell_type": "markdown",
      "metadata": {
        "id": "view-in-github",
        "colab_type": "text"
      },
      "source": [
        "<a href=\"https://colab.research.google.com/github/naosook/Big-Data-Python-Analysis-Project/blob/main/Estilo_de_vida.ipynb\" target=\"_parent\"><img src=\"https://colab.research.google.com/assets/colab-badge.svg\" alt=\"Open In Colab\"/></a>"
      ]
    },
    {
      "cell_type": "code",
      "execution_count": null,
      "metadata": {
        "colab": {
          "base_uri": "https://localhost:8080/",
          "height": 74
        },
        "id": "3ZUURIawVhDp",
        "outputId": "421d9a2d-79ec-42f9-834e-aeef118eafcd"
      },
      "outputs": [
        {
          "output_type": "display_data",
          "data": {
            "text/plain": [
              "<IPython.core.display.HTML object>"
            ],
            "text/html": [
              "\n",
              "     <input type=\"file\" id=\"files-44c3f024-20a8-4280-a643-20f11b951eb2\" name=\"files[]\" multiple disabled\n",
              "        style=\"border:none\" />\n",
              "     <output id=\"result-44c3f024-20a8-4280-a643-20f11b951eb2\">\n",
              "      Upload widget is only available when the cell has been executed in the\n",
              "      current browser session. Please rerun this cell to enable.\n",
              "      </output>\n",
              "      <script>// Copyright 2017 Google LLC\n",
              "//\n",
              "// Licensed under the Apache License, Version 2.0 (the \"License\");\n",
              "// you may not use this file except in compliance with the License.\n",
              "// You may obtain a copy of the License at\n",
              "//\n",
              "//      http://www.apache.org/licenses/LICENSE-2.0\n",
              "//\n",
              "// Unless required by applicable law or agreed to in writing, software\n",
              "// distributed under the License is distributed on an \"AS IS\" BASIS,\n",
              "// WITHOUT WARRANTIES OR CONDITIONS OF ANY KIND, either express or implied.\n",
              "// See the License for the specific language governing permissions and\n",
              "// limitations under the License.\n",
              "\n",
              "/**\n",
              " * @fileoverview Helpers for google.colab Python module.\n",
              " */\n",
              "(function(scope) {\n",
              "function span(text, styleAttributes = {}) {\n",
              "  const element = document.createElement('span');\n",
              "  element.textContent = text;\n",
              "  for (const key of Object.keys(styleAttributes)) {\n",
              "    element.style[key] = styleAttributes[key];\n",
              "  }\n",
              "  return element;\n",
              "}\n",
              "\n",
              "// Max number of bytes which will be uploaded at a time.\n",
              "const MAX_PAYLOAD_SIZE = 100 * 1024;\n",
              "\n",
              "function _uploadFiles(inputId, outputId) {\n",
              "  const steps = uploadFilesStep(inputId, outputId);\n",
              "  const outputElement = document.getElementById(outputId);\n",
              "  // Cache steps on the outputElement to make it available for the next call\n",
              "  // to uploadFilesContinue from Python.\n",
              "  outputElement.steps = steps;\n",
              "\n",
              "  return _uploadFilesContinue(outputId);\n",
              "}\n",
              "\n",
              "// This is roughly an async generator (not supported in the browser yet),\n",
              "// where there are multiple asynchronous steps and the Python side is going\n",
              "// to poll for completion of each step.\n",
              "// This uses a Promise to block the python side on completion of each step,\n",
              "// then passes the result of the previous step as the input to the next step.\n",
              "function _uploadFilesContinue(outputId) {\n",
              "  const outputElement = document.getElementById(outputId);\n",
              "  const steps = outputElement.steps;\n",
              "\n",
              "  const next = steps.next(outputElement.lastPromiseValue);\n",
              "  return Promise.resolve(next.value.promise).then((value) => {\n",
              "    // Cache the last promise value to make it available to the next\n",
              "    // step of the generator.\n",
              "    outputElement.lastPromiseValue = value;\n",
              "    return next.value.response;\n",
              "  });\n",
              "}\n",
              "\n",
              "/**\n",
              " * Generator function which is called between each async step of the upload\n",
              " * process.\n",
              " * @param {string} inputId Element ID of the input file picker element.\n",
              " * @param {string} outputId Element ID of the output display.\n",
              " * @return {!Iterable<!Object>} Iterable of next steps.\n",
              " */\n",
              "function* uploadFilesStep(inputId, outputId) {\n",
              "  const inputElement = document.getElementById(inputId);\n",
              "  inputElement.disabled = false;\n",
              "\n",
              "  const outputElement = document.getElementById(outputId);\n",
              "  outputElement.innerHTML = '';\n",
              "\n",
              "  const pickedPromise = new Promise((resolve) => {\n",
              "    inputElement.addEventListener('change', (e) => {\n",
              "      resolve(e.target.files);\n",
              "    });\n",
              "  });\n",
              "\n",
              "  const cancel = document.createElement('button');\n",
              "  inputElement.parentElement.appendChild(cancel);\n",
              "  cancel.textContent = 'Cancel upload';\n",
              "  const cancelPromise = new Promise((resolve) => {\n",
              "    cancel.onclick = () => {\n",
              "      resolve(null);\n",
              "    };\n",
              "  });\n",
              "\n",
              "  // Wait for the user to pick the files.\n",
              "  const files = yield {\n",
              "    promise: Promise.race([pickedPromise, cancelPromise]),\n",
              "    response: {\n",
              "      action: 'starting',\n",
              "    }\n",
              "  };\n",
              "\n",
              "  cancel.remove();\n",
              "\n",
              "  // Disable the input element since further picks are not allowed.\n",
              "  inputElement.disabled = true;\n",
              "\n",
              "  if (!files) {\n",
              "    return {\n",
              "      response: {\n",
              "        action: 'complete',\n",
              "      }\n",
              "    };\n",
              "  }\n",
              "\n",
              "  for (const file of files) {\n",
              "    const li = document.createElement('li');\n",
              "    li.append(span(file.name, {fontWeight: 'bold'}));\n",
              "    li.append(span(\n",
              "        `(${file.type || 'n/a'}) - ${file.size} bytes, ` +\n",
              "        `last modified: ${\n",
              "            file.lastModifiedDate ? file.lastModifiedDate.toLocaleDateString() :\n",
              "                                    'n/a'} - `));\n",
              "    const percent = span('0% done');\n",
              "    li.appendChild(percent);\n",
              "\n",
              "    outputElement.appendChild(li);\n",
              "\n",
              "    const fileDataPromise = new Promise((resolve) => {\n",
              "      const reader = new FileReader();\n",
              "      reader.onload = (e) => {\n",
              "        resolve(e.target.result);\n",
              "      };\n",
              "      reader.readAsArrayBuffer(file);\n",
              "    });\n",
              "    // Wait for the data to be ready.\n",
              "    let fileData = yield {\n",
              "      promise: fileDataPromise,\n",
              "      response: {\n",
              "        action: 'continue',\n",
              "      }\n",
              "    };\n",
              "\n",
              "    // Use a chunked sending to avoid message size limits. See b/62115660.\n",
              "    let position = 0;\n",
              "    do {\n",
              "      const length = Math.min(fileData.byteLength - position, MAX_PAYLOAD_SIZE);\n",
              "      const chunk = new Uint8Array(fileData, position, length);\n",
              "      position += length;\n",
              "\n",
              "      const base64 = btoa(String.fromCharCode.apply(null, chunk));\n",
              "      yield {\n",
              "        response: {\n",
              "          action: 'append',\n",
              "          file: file.name,\n",
              "          data: base64,\n",
              "        },\n",
              "      };\n",
              "\n",
              "      let percentDone = fileData.byteLength === 0 ?\n",
              "          100 :\n",
              "          Math.round((position / fileData.byteLength) * 100);\n",
              "      percent.textContent = `${percentDone}% done`;\n",
              "\n",
              "    } while (position < fileData.byteLength);\n",
              "  }\n",
              "\n",
              "  // All done.\n",
              "  yield {\n",
              "    response: {\n",
              "      action: 'complete',\n",
              "    }\n",
              "  };\n",
              "}\n",
              "\n",
              "scope.google = scope.google || {};\n",
              "scope.google.colab = scope.google.colab || {};\n",
              "scope.google.colab._files = {\n",
              "  _uploadFiles,\n",
              "  _uploadFilesContinue,\n",
              "};\n",
              "})(self);\n",
              "</script> "
            ]
          },
          "metadata": {}
        },
        {
          "output_type": "stream",
          "name": "stdout",
          "text": [
            "Saving estilodevida.csv to estilodevida (1).csv\n"
          ]
        }
      ],
      "source": [
        "import pandas as pd\n",
        "import numpy as np\n",
        "\n",
        "# Carregar o arquivo CSV no Colab ou Kaggle\n",
        "from google.colab import files\n",
        "uploaded = files.upload()  # No Colab\n",
        "df = pd.read_csv('estilodevida.csv')\n"
      ]
    },
    {
      "cell_type": "code",
      "source": [
        "# Calcular média, moda e mediana\n",
        "resultado = df.groupby('Profissão')['Duração do sono'].agg([np.mean, lambda x: x.mode()[0], np.median])\n",
        "resultado.columns = ['Média', 'Moda', 'Mediana']\n",
        "\n",
        "# Exibir o resultado\n",
        "print(resultado)\n"
      ],
      "metadata": {
        "colab": {
          "base_uri": "https://localhost:8080/"
        },
        "id": "tGf5T00PXr_u",
        "outputId": "b2b74187-4dcc-4812-ca6a-06fe3305723a"
      },
      "execution_count": null,
      "outputs": [
        {
          "output_type": "stream",
          "name": "stdout",
          "text": [
            "                            Média  Moda  Mediana\n",
            "Profissão                                       \n",
            "Advogado(a)              7.410638   7.2      7.3\n",
            "Cientista                6.000000   5.8      6.0\n",
            "Contador(a)              7.113514   7.2      7.2\n",
            "Enfermeiro(a)            7.048611   6.1      6.5\n",
            "Eng. de Software         6.750000   7.5      6.8\n",
            "Engenheiro(a)            7.987302   8.4      8.3\n",
            "Gerente                  6.900000   6.9      6.9\n",
            "Médico(a)                6.970423   6.0      7.6\n",
            "Pessoa Vendendora        6.403125   6.5      6.4\n",
            "Professor(a)             6.690000   6.6      6.6\n",
            "Representante de Vendas  5.900000   5.9      5.9\n"
          ]
        },
        {
          "output_type": "stream",
          "name": "stderr",
          "text": [
            "<ipython-input-3-4169b60a0c4f>:2: FutureWarning: The provided callable <function mean at 0x7fde49397d90> is currently using SeriesGroupBy.mean. In a future version of pandas, the provided callable will be used directly. To keep current behavior pass the string \"mean\" instead.\n",
            "  resultado = df.groupby('Profissão')['Duração do sono'].agg([np.mean, lambda x: x.mode()[0], np.median])\n",
            "<ipython-input-3-4169b60a0c4f>:2: FutureWarning: The provided callable <function median at 0x7fde48d4b490> is currently using SeriesGroupBy.median. In a future version of pandas, the provided callable will be used directly. To keep current behavior pass the string \"median\" instead.\n",
            "  resultado = df.groupby('Profissão')['Duração do sono'].agg([np.mean, lambda x: x.mode()[0], np.median])\n"
          ]
        }
      ]
    },
    {
      "cell_type": "markdown",
      "source": [
        "Das pessoas que atuam com engenharia de software qual a porcentagem de obesos?"
      ],
      "metadata": {
        "id": "OpjfFYDvYPn1"
      }
    },
    {
      "cell_type": "code",
      "source": [
        "# Filtrar os dados para Engenharia de Software\n",
        "eng_software = df[df['Profissão'] == 'Eng. de Software']\n",
        "\n",
        "# Contar o total de pessoas em Engenharia de Software\n",
        "total_eng_software = eng_software.shape[0]\n",
        "\n",
        "# Contar o número de obesos\n",
        "num_obesos = eng_software[eng_software['Categoria IMC'] == 'Obeso'].shape[0]\n",
        "\n",
        "# Calcular a porcentagem de obesos\n",
        "porcentagem_obesos = (num_obesos / total_eng_software) * 100\n",
        "\n",
        "# Exibir o resultado\n",
        "print(f'A porcentagem de obesos entre pessoas que atuam com engenharia de software é {porcentagem_obesos:.2f}%')\n"
      ],
      "metadata": {
        "colab": {
          "base_uri": "https://localhost:8080/"
        },
        "id": "ywG1BGlRYYJf",
        "outputId": "b88c579c-1916-4bfd-fd7e-bb4059f944e2"
      },
      "execution_count": null,
      "outputs": [
        {
          "output_type": "stream",
          "name": "stdout",
          "text": [
            "A porcentagem de obesos entre pessoas que atuam com engenharia de software é 0.00%\n"
          ]
        }
      ]
    },
    {
      "cell_type": "markdown",
      "source": [
        "De acordo com os dados, advogar ou ser representante de vendas faz você dormir menos? (Use o método ‘isin’, considere a média)"
      ],
      "metadata": {
        "id": "HcbOuy-NaXTi"
      }
    },
    {
      "cell_type": "code",
      "source": [
        "# Filtrar os dados para advogados e representantes de vendas\n",
        "profissoes_interesse = ['Advogado', 'Representante de Vendas']\n",
        "df_interesse = df[df['Profissão'].isin(profissoes_interesse)]\n",
        "\n",
        "# Calcular a média de duração do sono para advogados e representantes de vendas\n",
        "media_duracao_interesse = df_interesse.groupby('Profissão')['Duração do sono'].mean()\n",
        "\n",
        "# Calcular a média geral de duração do sono\n",
        "media_duracao_geral = df['Duração do sono'].mean()\n",
        "\n",
        "# Exibir as médias\n",
        "print(f'Média de duração do sono para advogados e representantes de vendas:\\n{media_duracao_interesse}')\n",
        "print(f'Média geral de duração do sono: {media_duracao_geral:.2f} horas')\n",
        "\n",
        "# Comparar as médias\n",
        "print('\\nComparação:')\n",
        "for profissao, media in media_duracao_interesse.items():\n",
        "    if media < media_duracao_geral:\n",
        "        print(f'Pessoas que atuam como {profissao} dormem menos que a média geral.')\n",
        "    else:\n",
        "        print(f'Pessoas que atuam como {profissao} dormem mais que a média geral.')\n"
      ],
      "metadata": {
        "colab": {
          "base_uri": "https://localhost:8080/"
        },
        "id": "IZc9BQjrah3T",
        "outputId": "46868f10-9e3b-4ea5-8a9a-5cb7b9dbe9ec"
      },
      "execution_count": null,
      "outputs": [
        {
          "output_type": "stream",
          "name": "stdout",
          "text": [
            "Média de duração do sono para advogados e representantes de vendas:\n",
            "Profissão\n",
            "Representante de Vendas    5.9\n",
            "Name: Duração do sono, dtype: float64\n",
            "Média geral de duração do sono: 7.13 horas\n",
            "\n",
            "Comparação:\n",
            "Pessoas que atuam como Representante de Vendas dormem menos que a média geral.\n"
          ]
        }
      ]
    },
    {
      "cell_type": "markdown",
      "source": [
        "Entre quem fez enfermagem e quem fez medicina, quem tem menos\n",
        "horas de sono? (Use o método ‘isin’, considere a média)\n"
      ],
      "metadata": {
        "id": "clPiewo_bKmw"
      }
    },
    {
      "cell_type": "markdown",
      "source": [],
      "metadata": {
        "id": "9IktOhYKbIBl"
      }
    },
    {
      "cell_type": "code",
      "source": [
        "# Verificar as profissões únicas no dataset\n",
        "print('Profissões disponíveis no dataset:')\n",
        "print(df['Profissão'].unique())\n",
        "\n",
        "# Filtrar os dados para Enfermagem e Medicina\n",
        "profissoes_interesse = ['Enfermeiro(a)', 'Médico(a)']\n",
        "df_interesse = df[df['Profissão'].isin(profissoes_interesse)]\n",
        "\n",
        "# Verificar se há dados filtrados\n",
        "if df_interesse.shape[0] > 0:\n",
        "    # Calcular a média de duração do sono para Enfermagem e Medicina\n",
        "    media_duracao_interesse = df_interesse.groupby('Profissão')['Duração do sono'].mean()\n",
        "\n",
        "    # Exibir as médias\n",
        "    print('\\nMédia de Duração do Sono para Enfermagem e Medicina:')\n",
        "    for profissao, media in media_duracao_interesse.items():\n",
        "        print(f'- {profissao}: {media:.2f} horas')\n",
        "\n",
        "    # Comparar as médias\n",
        "    enfermeiro_media = media_duracao_interesse.get('Enfermeiro(a)', None)\n",
        "    medico_media = media_duracao_interesse.get('Médico(a)', None)\n",
        "\n",
        "    if enfermeiro_media is not None and medico_media is not None:\n",
        "        if medico_media < enfermeiro_media:\n",
        "            print(f'\\nPessoas que fizeram Medicina dormem menos (média de {medico_media:.2f} horas) do que pessoas que fizeram Enfermagem (média de {enfermeiro_media:.2f} horas).')\n",
        "        elif medico_media > enfermeiro_media:\n",
        "            print(f'\\nPessoas que fizeram Enfermagem dormem menos (média de {enfermeiro_media:.2f} horas) do que pessoas que fizeram Medicina (média de {medico_media:.2f} horas).')\n",
        "        else:\n",
        "            print(f'\\nPessoas que fizeram Enfermagem e Medicina dormem a mesma quantidade de horas (média de {medico_media:.2f} horas).')\n",
        "    else:\n",
        "        print('\\nNão há dados suficientes para comparar Enfermagem e Medicina.')\n",
        "else:\n",
        "    print('\\nNão há dados suficientes para Enfermagem e Medicina no dataset.')"
      ],
      "metadata": {
        "colab": {
          "base_uri": "https://localhost:8080/"
        },
        "id": "t6U7CPh3bNlW",
        "outputId": "ba10dac5-2654-4d8e-e70d-044111dee847"
      },
      "execution_count": null,
      "outputs": [
        {
          "output_type": "stream",
          "name": "stdout",
          "text": [
            "Profissões disponíveis no dataset:\n",
            "['Eng. de Software' 'Médico(a)' 'Representante de Vendas' 'Professor(a)'\n",
            " 'Enfermeiro(a)' 'Engenheiro(a)' 'Contador(a)' 'Cientista' 'Advogado(a)'\n",
            " 'Pessoa Vendendora' 'Gerente']\n",
            "\n",
            "Média de Duração do Sono para Enfermagem e Medicina:\n",
            "- Enfermeiro(a): 7.05 horas\n",
            "- Médico(a): 6.97 horas\n",
            "\n",
            "Pessoas que fizeram Medicina dormem menos (média de 6.97 horas) do que pessoas que fizeram Enfermagem (média de 7.05 horas).\n"
          ]
        }
      ]
    },
    {
      "cell_type": "markdown",
      "source": [
        "Faça um subconjunto com as colunas Identificador, Gênero, Idade,\n",
        "Pressão sanguínea e Frequência cardíaca."
      ],
      "metadata": {
        "id": "8MWFKMa2diHS"
      }
    },
    {
      "cell_type": "code",
      "source": [
        "# Selecionar o subconjunto com as colunas desejadas\n",
        "colunas_desejadas = ['Identificador', 'Gênero', 'Idade', 'Pressão sanguínea', 'Frequência cardíaca']\n",
        "subconjunto = df[colunas_desejadas]\n",
        "\n",
        "# Exibir o subconjunto\n",
        "print('Subconjunto criado com as colunas desejadas:')\n",
        "print(subconjunto.head())  # Mostra as primeiras linhas do subconjunto para visualização"
      ],
      "metadata": {
        "colab": {
          "base_uri": "https://localhost:8080/"
        },
        "id": "jNFAhPq1dkVQ",
        "outputId": "5e866780-b785-4417-ebf8-b6579971ca22"
      },
      "execution_count": null,
      "outputs": [
        {
          "output_type": "stream",
          "name": "stdout",
          "text": [
            "Subconjunto criado com as colunas desejadas:\n",
            "   Identificador Gênero  Idade Pressão sanguínea  Frequência cardíaca\n",
            "0              1  Homem     27            126/83                   77\n",
            "1              2  Homem     28            125/80                   75\n",
            "2              3  Homem     28            125/80                   75\n",
            "3              4  Homem     28            140/90                   85\n",
            "4              5  Homem     28            140/90                   85\n"
          ]
        }
      ]
    },
    {
      "cell_type": "markdown",
      "source": [
        "Descubra qual a profissão menos frequente no conjunto. (Use\n",
        "value_counts)"
      ],
      "metadata": {
        "id": "sgEzmkIZeHsM"
      }
    },
    {
      "cell_type": "code",
      "source": [
        "# Contar a frequência de cada profissão\n",
        "frequencia_profissao = df['Profissão'].value_counts()\n",
        "\n",
        "# Exibir a frequência das profissões\n",
        "print('Frequência de cada profissão:')\n",
        "print(frequencia_profissao)\n",
        "\n",
        "# Encontrar a profissão menos frequente\n",
        "profissao_menos_frequente = frequencia_profissao.idxmin()\n",
        "contagem_menos_frequente = frequencia_profissao.min()\n",
        "\n",
        "# Exibir a profissão menos frequente\n",
        "print(f'\\nA profissão menos frequente é \"{profissao_menos_frequente}\" com {contagem_menos_frequente} ocorrência(s).')"
      ],
      "metadata": {
        "colab": {
          "base_uri": "https://localhost:8080/"
        },
        "id": "oErQe7ZTeJa5",
        "outputId": "23f179ea-4f47-4bc6-e3d9-d656729bba31"
      },
      "execution_count": null,
      "outputs": [
        {
          "output_type": "stream",
          "name": "stdout",
          "text": [
            "Frequência de cada profissão:\n",
            "Profissão\n",
            "Enfermeiro(a)              72\n",
            "Médico(a)                  71\n",
            "Engenheiro(a)              63\n",
            "Advogado(a)                47\n",
            "Professor(a)               40\n",
            "Contador(a)                37\n",
            "Pessoa Vendendora          32\n",
            "Eng. de Software            4\n",
            "Cientista                   4\n",
            "Representante de Vendas     2\n",
            "Gerente                     1\n",
            "Name: count, dtype: int64\n",
            "\n",
            "A profissão menos frequente é \"Gerente\" com 1 ocorrência(s).\n"
          ]
        }
      ]
    },
    {
      "cell_type": "markdown",
      "source": [
        "Quem tem maior pressão sanguínea média, homens ou mulheres?\n",
        "(Considere a média)"
      ],
      "metadata": {
        "id": "6ikfd3_6elgb"
      }
    },
    {
      "cell_type": "code",
      "source": [
        "# Garantir que a coluna 'Pressão sanguínea' seja tratada como string\n",
        "data['Pressão sanguínea'] = data['Pressão sanguínea'].astype(str)\n",
        "\n",
        "# Dividir a 'Pressão sanguínea' em sistólica e diastólica usando '/' como separador\n",
        "data[['Sistólica', 'Diastólica']] = data['Pressão sanguínea'].str.split('/', expand=True).astype(float)\n",
        "\n",
        "# Calcular a média da pressão sanguínea para homens e mulheres\n",
        "mean_pressure = data.groupby('Gênero')[['Sistólica', 'Diastólica']].mean().reset_index()\n",
        "\n",
        "# Calcular a pressão média geral (média das duas medidas)\n",
        "mean_pressure['Pressão Média'] = (mean_pressure['Sistólica'] + mean_pressure['Diastólica']) / 2\n",
        "\n",
        "# Exibir os resultados\n",
        "print(\"Média de pressão sanguínea por gênero:\")\n",
        "print(mean_pressure)\n",
        "\n",
        "# Determinar quem tem a maior pressão sanguínea média\n",
        "homem_pressao = mean_pressure.loc[mean_pressure['Gênero'] == 'Homem', 'Pressão Média'].values\n",
        "mulher_pressao = mean_pressure.loc[mean_pressure['Gênero'] == 'Mulher', 'Pressão Média'].values\n",
        "\n",
        "if len(homem_pressao) > 0 and len(mulher_pressao) > 0:\n",
        "    maior_pressao = 'Homem' if homem_pressao[0] > mulher_pressao[0] else 'Mulher'\n",
        "    pressao_media_maior = max(homem_pressao[0], mulher_pressao[0])\n",
        "\n",
        "    print(f\"\\nQuem tem maior pressão sanguínea média: {maior_pressao}\")\n",
        "    print(f\"Pressão sanguínea média: {pressao_media_maior:.2f}\")\n"
      ],
      "metadata": {
        "colab": {
          "base_uri": "https://localhost:8080/"
        },
        "id": "o8hscEGmfE1x",
        "outputId": "eebcf45b-38bc-4585-88e7-2bcf47bdd729"
      },
      "execution_count": null,
      "outputs": [
        {
          "output_type": "stream",
          "name": "stdout",
          "text": [
            "Média de pressão sanguínea por gênero:\n",
            "  Gênero  Sistólica  Diastólica  Pressão Média\n",
            "0  Homem      125.5        81.5          103.5\n"
          ]
        }
      ]
    },
    {
      "cell_type": "markdown",
      "source": [
        " É predominante entre os participantes dormir 8 horas por dia\n",
        "(considere usar Moda como medida)?"
      ],
      "metadata": {
        "id": "zTPXVqSsyilr"
      }
    },
    {
      "cell_type": "code",
      "source": [
        "# Garantir que a coluna 'Duração do sono' seja tratada como numérica\n",
        "data['Duração do sono'] = pd.to_numeric(data['Duração do sono'], errors='coerce')\n",
        "\n",
        "# Calcular a moda da coluna 'Duração do sono'\n",
        "moda_duracao_sono = data['Duração do sono'].mode()\n",
        "\n",
        "# Verificar a porcentagem de participantes que dormem exatamente 8 horas\n",
        "total_participantes = len(data)\n",
        "participantes_8h = len(data[data['Duração do sono'] == 8])\n",
        "percentual_8h = (participantes_8h / total_participantes) * 100\n",
        "\n",
        "# Exibir os resultados\n",
        "print(f\"A moda da duração do sono é: {moda_duracao_sono.values[0]} horas\")\n",
        "print(f\"Percentual de participantes que dormem exatamente 8 horas: {percentual_8h:.2f}%\")\n",
        "\n",
        "# Verificar se 8 horas é predominante\n",
        "if moda_duracao_sono.values[0] == 8:\n",
        "    print(\"É predominante entre os participantes dormir 8 horas por dia.\")\n",
        "else:\n",
        "    print(\"Não é predominante entre os participantes dormir 8 horas por dia.\")"
      ],
      "metadata": {
        "colab": {
          "base_uri": "https://localhost:8080/"
        },
        "id": "zhLt32M6ylc6",
        "outputId": "c4fc0c45-9b8b-42f6-b65a-06a53cdf8146"
      },
      "execution_count": null,
      "outputs": [
        {
          "output_type": "stream",
          "name": "stdout",
          "text": [
            "A moda da duração do sono é: 6.1 horas\n",
            "Percentual de participantes que dormem exatamente 8 horas: 0.00%\n",
            "Não é predominante entre os participantes dormir 8 horas por dia.\n"
          ]
        }
      ]
    },
    {
      "cell_type": "markdown",
      "source": [
        "Pessoas com frequências cardíacas acima de 70 dão mais passos que\n",
        "pessoas com frequência cardíaca menor ou igual a 70? (Use a média)"
      ],
      "metadata": {
        "id": "XM0dv0xCznT0"
      }
    },
    {
      "cell_type": "code",
      "source": [
        "# Garantir que as colunas 'Frequência cardíaca' e 'Passos diários' sejam tratadas como numéricas\n",
        "data['Frequência cardíaca'] = pd.to_numeric(data['Frequência cardíaca'], errors='coerce')\n",
        "data['Passos diários'] = pd.to_numeric(data['Passos diários'], errors='coerce')\n",
        "\n",
        "# Dividir os dados em dois grupos com base na frequência cardíaca\n",
        "acima_70 = data[data['Frequência cardíaca'] > 70]\n",
        "menor_ou_igual_70 = data[data['Frequência cardíaca'] <= 70]\n",
        "\n",
        "# Calcular a média de passos diários para cada grupo\n",
        "media_passos_acima_70 = acima_70['Passos diários'].mean()\n",
        "media_passos_menor_ou_igual_70 = menor_ou_igual_70['Passos diários'].mean()\n",
        "\n",
        "# Exibir os resultados\n",
        "print(f\"Média de passos diários para frequência cardíaca acima de 70: {media_passos_acima_70:.2f}\")\n",
        "print(f\"Média de passos diários para frequência cardíaca menor ou igual a 70: {media_passos_menor_ou_igual_70:.2f}\")\n",
        "\n",
        "# Comparar as médias\n",
        "if media_passos_acima_70 > media_passos_menor_ou_igual_70:\n",
        "    print(\"Pessoas com frequência cardíaca acima de 70 dão mais passos do que pessoas com frequência cardíaca menor ou igual a 70.\")\n",
        "else:\n",
        "    print(\"Pessoas com frequência cardíaca menor ou igual a 70 dão mais passos do que pessoas com frequência cardíaca acima de 70.\")"
      ],
      "metadata": {
        "colab": {
          "base_uri": "https://localhost:8080/"
        },
        "id": "_WqjoirCzpu6",
        "outputId": "8af3c7cd-b064-41d4-f8c1-48abd9175890"
      },
      "execution_count": null,
      "outputs": [
        {
          "output_type": "stream",
          "name": "stdout",
          "text": [
            "Média de passos diários para frequência cardíaca acima de 70: 7100.00\n",
            "Média de passos diários para frequência cardíaca menor ou igual a 70: nan\n",
            "Pessoas com frequência cardíaca menor ou igual a 70 dão mais passos do que pessoas com frequência cardíaca acima de 70.\n"
          ]
        }
      ]
    }
  ]
}